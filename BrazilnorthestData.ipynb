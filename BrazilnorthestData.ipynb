{
  "nbformat": 4,
  "nbformat_minor": 0,
  "metadata": {
    "colab": {
      "name": "northestData.ipynb",
      "provenance": [],
      "authorship_tag": "ABX9TyMYR2lExm9EvmxfSLeuEDiO",
      "include_colab_link": true
    },
    "kernelspec": {
      "name": "python3",
      "display_name": "Python 3"
    }
  },
  "cells": [
    {
      "cell_type": "markdown",
      "metadata": {
        "id": "view-in-github",
        "colab_type": "text"
      },
      "source": [
        "<a href=\"https://colab.research.google.com/github/NicolasLopes7/predict-covid/blob/master/BrazilnorthestData.ipynb\" target=\"_parent\"><img src=\"https://colab.research.google.com/assets/colab-badge.svg\" alt=\"Open In Colab\"/></a>"
      ]
    },
    {
      "cell_type": "code",
      "metadata": {
        "id": "hlPAeJ5mCPO0",
        "colab_type": "code",
        "colab": {}
      },
      "source": [
        "import pandas as pd\n",
        "import numpy as np"
      ],
      "execution_count": 0,
      "outputs": []
    },
    {
      "cell_type": "code",
      "metadata": {
        "id": "tHak1Pw2C5AN",
        "colab_type": "code",
        "colab": {
          "base_uri": "https://localhost:8080/",
          "height": 195
        },
        "outputId": "2aa7c22f-b472-478e-f08d-5fe2edf59779"
      },
      "source": [
        "df = pd.read_csv('https://brasil.io/dataset/covid19/caso?format=csv')\n",
        "df.tail()"
      ],
      "execution_count": 50,
      "outputs": [
        {
          "output_type": "execute_result",
          "data": {
            "text/html": [
              "<div>\n",
              "<style scoped>\n",
              "    .dataframe tbody tr th:only-of-type {\n",
              "        vertical-align: middle;\n",
              "    }\n",
              "\n",
              "    .dataframe tbody tr th {\n",
              "        vertical-align: top;\n",
              "    }\n",
              "\n",
              "    .dataframe thead th {\n",
              "        text-align: right;\n",
              "    }\n",
              "</style>\n",
              "<table border=\"1\" class=\"dataframe\">\n",
              "  <thead>\n",
              "    <tr style=\"text-align: right;\">\n",
              "      <th></th>\n",
              "      <th>date</th>\n",
              "      <th>state</th>\n",
              "      <th>city</th>\n",
              "      <th>place_type</th>\n",
              "      <th>confirmed</th>\n",
              "      <th>deaths</th>\n",
              "      <th>is_last</th>\n",
              "      <th>estimated_population_2019</th>\n",
              "      <th>city_ibge_code</th>\n",
              "      <th>confirmed_per_100k_inhabitants</th>\n",
              "      <th>death_rate</th>\n",
              "    </tr>\n",
              "  </thead>\n",
              "  <tbody>\n",
              "    <tr>\n",
              "      <th>10516</th>\n",
              "      <td>2020-02-27</td>\n",
              "      <td>SP</td>\n",
              "      <td>São Paulo</td>\n",
              "      <td>city</td>\n",
              "      <td>1</td>\n",
              "      <td>NaN</td>\n",
              "      <td>False</td>\n",
              "      <td>12252023.0</td>\n",
              "      <td>3550308.0</td>\n",
              "      <td>0.00816</td>\n",
              "      <td>NaN</td>\n",
              "    </tr>\n",
              "    <tr>\n",
              "      <th>10517</th>\n",
              "      <td>2020-02-27</td>\n",
              "      <td>SP</td>\n",
              "      <td>NaN</td>\n",
              "      <td>state</td>\n",
              "      <td>1</td>\n",
              "      <td>0.0</td>\n",
              "      <td>False</td>\n",
              "      <td>45919049.0</td>\n",
              "      <td>35.0</td>\n",
              "      <td>0.00218</td>\n",
              "      <td>NaN</td>\n",
              "    </tr>\n",
              "    <tr>\n",
              "      <th>10518</th>\n",
              "      <td>2020-02-26</td>\n",
              "      <td>SP</td>\n",
              "      <td>NaN</td>\n",
              "      <td>state</td>\n",
              "      <td>1</td>\n",
              "      <td>0.0</td>\n",
              "      <td>False</td>\n",
              "      <td>45919049.0</td>\n",
              "      <td>35.0</td>\n",
              "      <td>0.00218</td>\n",
              "      <td>NaN</td>\n",
              "    </tr>\n",
              "    <tr>\n",
              "      <th>10519</th>\n",
              "      <td>2020-02-25</td>\n",
              "      <td>SP</td>\n",
              "      <td>São Paulo</td>\n",
              "      <td>city</td>\n",
              "      <td>1</td>\n",
              "      <td>NaN</td>\n",
              "      <td>False</td>\n",
              "      <td>12252023.0</td>\n",
              "      <td>3550308.0</td>\n",
              "      <td>0.00816</td>\n",
              "      <td>NaN</td>\n",
              "    </tr>\n",
              "    <tr>\n",
              "      <th>10520</th>\n",
              "      <td>2020-02-25</td>\n",
              "      <td>SP</td>\n",
              "      <td>NaN</td>\n",
              "      <td>state</td>\n",
              "      <td>1</td>\n",
              "      <td>0.0</td>\n",
              "      <td>False</td>\n",
              "      <td>45919049.0</td>\n",
              "      <td>35.0</td>\n",
              "      <td>0.00218</td>\n",
              "      <td>NaN</td>\n",
              "    </tr>\n",
              "  </tbody>\n",
              "</table>\n",
              "</div>"
            ],
            "text/plain": [
              "             date state  ... confirmed_per_100k_inhabitants death_rate\n",
              "10516  2020-02-27    SP  ...                        0.00816        NaN\n",
              "10517  2020-02-27    SP  ...                        0.00218        NaN\n",
              "10518  2020-02-26    SP  ...                        0.00218        NaN\n",
              "10519  2020-02-25    SP  ...                        0.00816        NaN\n",
              "10520  2020-02-25    SP  ...                        0.00218        NaN\n",
              "\n",
              "[5 rows x 11 columns]"
            ]
          },
          "metadata": {
            "tags": []
          },
          "execution_count": 50
        }
      ]
    },
    {
      "cell_type": "code",
      "metadata": {
        "id": "2rTO9g8ODGPo",
        "colab_type": "code",
        "colab": {
          "base_uri": "https://localhost:8080/",
          "height": 195
        },
        "outputId": "9639c4e1-2a5b-4c8c-fd5a-2f5e9f17b055"
      },
      "source": [
        "estados = df.loc[ df.place_type == \"state\" , : ]\n",
        "estados.head()"
      ],
      "execution_count": 61,
      "outputs": [
        {
          "output_type": "execute_result",
          "data": {
            "text/html": [
              "<div>\n",
              "<style scoped>\n",
              "    .dataframe tbody tr th:only-of-type {\n",
              "        vertical-align: middle;\n",
              "    }\n",
              "\n",
              "    .dataframe tbody tr th {\n",
              "        vertical-align: top;\n",
              "    }\n",
              "\n",
              "    .dataframe thead th {\n",
              "        text-align: right;\n",
              "    }\n",
              "</style>\n",
              "<table border=\"1\" class=\"dataframe\">\n",
              "  <thead>\n",
              "    <tr style=\"text-align: right;\">\n",
              "      <th></th>\n",
              "      <th>date</th>\n",
              "      <th>state</th>\n",
              "      <th>city</th>\n",
              "      <th>place_type</th>\n",
              "      <th>confirmed</th>\n",
              "      <th>deaths</th>\n",
              "      <th>is_last</th>\n",
              "      <th>estimated_population_2019</th>\n",
              "      <th>city_ibge_code</th>\n",
              "      <th>confirmed_per_100k_inhabitants</th>\n",
              "      <th>death_rate</th>\n",
              "    </tr>\n",
              "  </thead>\n",
              "  <tbody>\n",
              "    <tr>\n",
              "      <th>92</th>\n",
              "      <td>2020-04-11</td>\n",
              "      <td>MG</td>\n",
              "      <td>NaN</td>\n",
              "      <td>state</td>\n",
              "      <td>750</td>\n",
              "      <td>17.0</td>\n",
              "      <td>True</td>\n",
              "      <td>21168791.0</td>\n",
              "      <td>31.0</td>\n",
              "      <td>3.54295</td>\n",
              "      <td>0.0227</td>\n",
              "    </tr>\n",
              "    <tr>\n",
              "      <th>98</th>\n",
              "      <td>2020-04-10</td>\n",
              "      <td>AC</td>\n",
              "      <td>NaN</td>\n",
              "      <td>state</td>\n",
              "      <td>70</td>\n",
              "      <td>2.0</td>\n",
              "      <td>True</td>\n",
              "      <td>881935.0</td>\n",
              "      <td>12.0</td>\n",
              "      <td>7.93709</td>\n",
              "      <td>0.0286</td>\n",
              "    </tr>\n",
              "    <tr>\n",
              "      <th>104</th>\n",
              "      <td>2020-04-10</td>\n",
              "      <td>AL</td>\n",
              "      <td>NaN</td>\n",
              "      <td>state</td>\n",
              "      <td>45</td>\n",
              "      <td>3.0</td>\n",
              "      <td>True</td>\n",
              "      <td>3337357.0</td>\n",
              "      <td>27.0</td>\n",
              "      <td>1.34837</td>\n",
              "      <td>0.0667</td>\n",
              "    </tr>\n",
              "    <tr>\n",
              "      <th>122</th>\n",
              "      <td>2020-04-10</td>\n",
              "      <td>AM</td>\n",
              "      <td>NaN</td>\n",
              "      <td>state</td>\n",
              "      <td>981</td>\n",
              "      <td>50.0</td>\n",
              "      <td>True</td>\n",
              "      <td>4144597.0</td>\n",
              "      <td>13.0</td>\n",
              "      <td>23.66937</td>\n",
              "      <td>0.0510</td>\n",
              "    </tr>\n",
              "    <tr>\n",
              "      <th>126</th>\n",
              "      <td>2020-04-10</td>\n",
              "      <td>AP</td>\n",
              "      <td>NaN</td>\n",
              "      <td>state</td>\n",
              "      <td>166</td>\n",
              "      <td>2.0</td>\n",
              "      <td>True</td>\n",
              "      <td>845731.0</td>\n",
              "      <td>16.0</td>\n",
              "      <td>19.62799</td>\n",
              "      <td>0.0120</td>\n",
              "    </tr>\n",
              "  </tbody>\n",
              "</table>\n",
              "</div>"
            ],
            "text/plain": [
              "           date state  ... confirmed_per_100k_inhabitants death_rate\n",
              "92   2020-04-11    MG  ...                        3.54295     0.0227\n",
              "98   2020-04-10    AC  ...                        7.93709     0.0286\n",
              "104  2020-04-10    AL  ...                        1.34837     0.0667\n",
              "122  2020-04-10    AM  ...                       23.66937     0.0510\n",
              "126  2020-04-10    AP  ...                       19.62799     0.0120\n",
              "\n",
              "[5 rows x 11 columns]"
            ]
          },
          "metadata": {
            "tags": []
          },
          "execution_count": 61
        }
      ]
    },
    {
      "cell_type": "code",
      "metadata": {
        "id": "OHcDVKt0Dp0X",
        "colab_type": "code",
        "colab": {
          "base_uri": "https://localhost:8080/",
          "height": 195
        },
        "outputId": "a0822396-aec1-491c-a755-c287e98248d5"
      },
      "source": [
        "data = estados[['date', 'state', 'confirmed', 'deaths', 'is_last']]\n",
        "data.head()"
      ],
      "execution_count": 52,
      "outputs": [
        {
          "output_type": "execute_result",
          "data": {
            "text/html": [
              "<div>\n",
              "<style scoped>\n",
              "    .dataframe tbody tr th:only-of-type {\n",
              "        vertical-align: middle;\n",
              "    }\n",
              "\n",
              "    .dataframe tbody tr th {\n",
              "        vertical-align: top;\n",
              "    }\n",
              "\n",
              "    .dataframe thead th {\n",
              "        text-align: right;\n",
              "    }\n",
              "</style>\n",
              "<table border=\"1\" class=\"dataframe\">\n",
              "  <thead>\n",
              "    <tr style=\"text-align: right;\">\n",
              "      <th></th>\n",
              "      <th>date</th>\n",
              "      <th>state</th>\n",
              "      <th>confirmed</th>\n",
              "      <th>deaths</th>\n",
              "      <th>is_last</th>\n",
              "    </tr>\n",
              "  </thead>\n",
              "  <tbody>\n",
              "    <tr>\n",
              "      <th>92</th>\n",
              "      <td>2020-04-11</td>\n",
              "      <td>MG</td>\n",
              "      <td>750</td>\n",
              "      <td>17.0</td>\n",
              "      <td>True</td>\n",
              "    </tr>\n",
              "    <tr>\n",
              "      <th>98</th>\n",
              "      <td>2020-04-10</td>\n",
              "      <td>AC</td>\n",
              "      <td>70</td>\n",
              "      <td>2.0</td>\n",
              "      <td>True</td>\n",
              "    </tr>\n",
              "    <tr>\n",
              "      <th>104</th>\n",
              "      <td>2020-04-10</td>\n",
              "      <td>AL</td>\n",
              "      <td>45</td>\n",
              "      <td>3.0</td>\n",
              "      <td>True</td>\n",
              "    </tr>\n",
              "    <tr>\n",
              "      <th>122</th>\n",
              "      <td>2020-04-10</td>\n",
              "      <td>AM</td>\n",
              "      <td>981</td>\n",
              "      <td>50.0</td>\n",
              "      <td>True</td>\n",
              "    </tr>\n",
              "    <tr>\n",
              "      <th>126</th>\n",
              "      <td>2020-04-10</td>\n",
              "      <td>AP</td>\n",
              "      <td>166</td>\n",
              "      <td>2.0</td>\n",
              "      <td>True</td>\n",
              "    </tr>\n",
              "  </tbody>\n",
              "</table>\n",
              "</div>"
            ],
            "text/plain": [
              "           date state  confirmed  deaths  is_last\n",
              "92   2020-04-11    MG        750    17.0     True\n",
              "98   2020-04-10    AC         70     2.0     True\n",
              "104  2020-04-10    AL         45     3.0     True\n",
              "122  2020-04-10    AM        981    50.0     True\n",
              "126  2020-04-10    AP        166     2.0     True"
            ]
          },
          "metadata": {
            "tags": []
          },
          "execution_count": 52
        }
      ]
    },
    {
      "cell_type": "code",
      "metadata": {
        "id": "deQDZGYZEmrD",
        "colab_type": "code",
        "colab": {
          "base_uri": "https://localhost:8080/",
          "height": 282
        },
        "outputId": "3b64fb12-03cf-4a37-8c42-7969a9f6b8ec"
      },
      "source": [
        "def sinceFirstCase(data, estados, situacao):\n",
        "  covid = pd.DataFrame()\n",
        "  for estado in estados:\n",
        "    try:\n",
        "      df_estado = data.loc[data.state == estado, : ]\n",
        "      df_estado = df_estado.groupby('date').sum()[situacao].reset_index()\n",
        "\n",
        "      df_estado = df_estado.drop('date', axis = 1)\n",
        "      df_estado.columns = [estado]\n",
        "      covid = pd.concat([covid, df_estado], ignore_index=False, axis=1)\n",
        "    except:\n",
        "      print('error')\n",
        "\n",
        "  covid.columns = estados\n",
        "  return covid\n",
        "\n",
        "df_estados = sinceFirstCase(data, ['AL', 'MA','BA', 'PB', 'PE', 'PI',\n",
        "                                   'RN','SE','CE'], 'confirmed')\n",
        "df_estados.plot()"
      ],
      "execution_count": 64,
      "outputs": [
        {
          "output_type": "execute_result",
          "data": {
            "text/plain": [
              "<matplotlib.axes._subplots.AxesSubplot at 0x7fbe1ec0fe80>"
            ]
          },
          "metadata": {
            "tags": []
          },
          "execution_count": 64
        },
        {
          "output_type": "display_data",
          "data": {
            "image/png": "[encoded data removed]",
            "text/plain": [
              "<Figure size 432x288 with 1 Axes>"
            ]
          },
          "metadata": {
            "tags": [],
            "needs_background": "light"
          }
        }
      ]
    },
    {
      "cell_type": "code",
      "metadata": {
        "id": "6IjLaj6oHne6",
        "colab_type": "code",
        "colab": {}
      },
      "source": [
        ""
      ],
      "execution_count": 0,
      "outputs": []
    }
  ]
}