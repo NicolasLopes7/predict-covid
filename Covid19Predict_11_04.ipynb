{
  "nbformat": 4,
  "nbformat_minor": 0,
  "metadata": {
    "colab": {
      "name": "Covid19Predict 11-04.ipynb",
      "provenance": [],
      "collapsed_sections": [],
      "authorship_tag": "ABX9TyOphILcv73De8I/6nmvFK2+"
    },
    "kernelspec": {
      "name": "python3",
      "display_name": "Python 3"
    }
  },
  "cells": [
    {
      "cell_type": "markdown",
      "metadata": {
        "id": "C8eBKx610gMX",
        "colab_type": "text"
      },
      "source": [
        "#**Predição com séries temporais do COVID-19: Casos confirmados, Mortes e Casos recuperados**\n",
        "###O sistema de saúde mundial está prestes a entrar em colapso, com isso a tecnologia e os detentores de informação dela, **devem** propor modelos e soluções para os problemas manifestados. Abaixo, segue a minha contribuição.\n",
        "\n"
      ]
    },
    {
      "cell_type": "markdown",
      "metadata": {
        "id": "SpPQXG_L5tAy",
        "colab_type": "text"
      },
      "source": [
        "#**IMPORTAÇÃO DE BIBLIOTECAS**\n"
      ]
    },
    {
      "cell_type": "code",
      "metadata": {
        "id": "ihw7Np1Z3nEL",
        "colab_type": "code",
        "colab": {}
      },
      "source": [
        "import pandas as pd\n",
        "import numpy as np\n",
        "from fbprophet import Prophet"
      ],
      "execution_count": 0,
      "outputs": []
    },
    {
      "cell_type": "markdown",
      "metadata": {
        "id": "V3RyB3iT52Dy",
        "colab_type": "text"
      },
      "source": [
        "#**COLETA E MANIPULAÇÃO DE BANCO DE DADOS**\n",
        "###Coleta do banco de dados"
      ]
    },
    {
      "cell_type": "code",
      "metadata": {
        "id": "09RSkuWY3vO2",
        "colab_type": "code",
        "outputId": "f92dad57-441c-4e33-a973-c2d19e0d56d5",
        "colab": {
          "base_uri": "https://localhost:8080/",
          "height": 190
        }
      },
      "source": [
        "covid = pd.read_csv('https://raw.githubusercontent.com/NicolasLopes7/predict-covid/master/covid_19_data.csv')\n",
        "covid.tail()"
      ],
      "execution_count": 46,
      "outputs": [
        {
          "output_type": "execute_result",
          "data": {
            "text/html": [
              "<div>\n",
              "<style scoped>\n",
              "    .dataframe tbody tr th:only-of-type {\n",
              "        vertical-align: middle;\n",
              "    }\n",
              "\n",
              "    .dataframe tbody tr th {\n",
              "        vertical-align: top;\n",
              "    }\n",
              "\n",
              "    .dataframe thead th {\n",
              "        text-align: right;\n",
              "    }\n",
              "</style>\n",
              "<table border=\"1\" class=\"dataframe\">\n",
              "  <thead>\n",
              "    <tr style=\"text-align: right;\">\n",
              "      <th></th>\n",
              "      <th>SNo</th>\n",
              "      <th>ObservationDate</th>\n",
              "      <th>Province/State</th>\n",
              "      <th>Country/Region</th>\n",
              "      <th>Last Update</th>\n",
              "      <th>Confirmed</th>\n",
              "      <th>Deaths</th>\n",
              "      <th>Recovered</th>\n",
              "    </tr>\n",
              "  </thead>\n",
              "  <tbody>\n",
              "    <tr>\n",
              "      <th>13845</th>\n",
              "      <td>13846</td>\n",
              "      <td>04/10/2020</td>\n",
              "      <td>Wyoming</td>\n",
              "      <td>US</td>\n",
              "      <td>2020-04-10 23:01:43</td>\n",
              "      <td>239.0</td>\n",
              "      <td>0.0</td>\n",
              "      <td>0.0</td>\n",
              "    </tr>\n",
              "    <tr>\n",
              "      <th>13846</th>\n",
              "      <td>13847</td>\n",
              "      <td>04/10/2020</td>\n",
              "      <td>Xinjiang</td>\n",
              "      <td>Mainland China</td>\n",
              "      <td>2020-04-10 23:01:43</td>\n",
              "      <td>76.0</td>\n",
              "      <td>3.0</td>\n",
              "      <td>73.0</td>\n",
              "    </tr>\n",
              "    <tr>\n",
              "      <th>13847</th>\n",
              "      <td>13848</td>\n",
              "      <td>04/10/2020</td>\n",
              "      <td>Yukon</td>\n",
              "      <td>Canada</td>\n",
              "      <td>2020-04-10 23:01:43</td>\n",
              "      <td>8.0</td>\n",
              "      <td>0.0</td>\n",
              "      <td>0.0</td>\n",
              "    </tr>\n",
              "    <tr>\n",
              "      <th>13848</th>\n",
              "      <td>13849</td>\n",
              "      <td>04/10/2020</td>\n",
              "      <td>Yunnan</td>\n",
              "      <td>Mainland China</td>\n",
              "      <td>2020-04-10 23:01:43</td>\n",
              "      <td>184.0</td>\n",
              "      <td>2.0</td>\n",
              "      <td>173.0</td>\n",
              "    </tr>\n",
              "    <tr>\n",
              "      <th>13849</th>\n",
              "      <td>13850</td>\n",
              "      <td>04/10/2020</td>\n",
              "      <td>Zhejiang</td>\n",
              "      <td>Mainland China</td>\n",
              "      <td>2020-04-10 23:01:43</td>\n",
              "      <td>1267.0</td>\n",
              "      <td>1.0</td>\n",
              "      <td>1235.0</td>\n",
              "    </tr>\n",
              "  </tbody>\n",
              "</table>\n",
              "</div>"
            ],
            "text/plain": [
              "         SNo ObservationDate Province/State  ... Confirmed Deaths  Recovered\n",
              "13845  13846      04/10/2020        Wyoming  ...     239.0    0.0        0.0\n",
              "13846  13847      04/10/2020       Xinjiang  ...      76.0    3.0       73.0\n",
              "13847  13848      04/10/2020          Yukon  ...       8.0    0.0        0.0\n",
              "13848  13849      04/10/2020         Yunnan  ...     184.0    2.0      173.0\n",
              "13849  13850      04/10/2020       Zhejiang  ...    1267.0    1.0     1235.0\n",
              "\n",
              "[5 rows x 8 columns]"
            ]
          },
          "metadata": {
            "tags": []
          },
          "execution_count": 46
        }
      ]
    },
    {
      "cell_type": "markdown",
      "metadata": {
        "id": "aRjzqw2f6Esq",
        "colab_type": "text"
      },
      "source": [
        "##Manipulação do banco de dados"
      ]
    },
    {
      "cell_type": "code",
      "metadata": {
        "id": "I5ZgZKg24TKc",
        "colab_type": "code",
        "colab": {}
      },
      "source": [
        "data11 = [{'SNo':13851.0, 'ObservationDate':'04/11/2020','Province/State':'global','Country/Region':'global','Last Update':'2020-04-11 23:01:43','Confirmed': 1827284.0, 'Deaths':113031.0, 'Recovered': 416620.0}]\n",
        "covid = covid.append(data11)\n",
        "covid.rename(columns={'ObservationDate':'Date', 'Country/Region':'Country',\"Deaths\":\"Mortes\", \"Confirmed\":\"Confirmado\", \"Recovered\":\"Recuperado\"}, inplace=True)"
      ],
      "execution_count": 0,
      "outputs": []
    },
    {
      "cell_type": "code",
      "metadata": {
        "id": "cQQaHDm44lXO",
        "colab_type": "code",
        "outputId": "be2754b6-2334-4ba0-c1c6-1cfd95bdc3c5",
        "colab": {
          "base_uri": "https://localhost:8080/",
          "height": 190
        }
      },
      "source": [
        "mortes = covid.groupby('Date').sum()['Mortes'].reset_index()\n",
        "confirmados = covid.groupby('Date').sum()['Confirmado'].reset_index()\n",
        "recuperados = covid.groupby('Date').sum()['Recuperado'].reset_index()\n",
        "data = pd.concat([mortes, confirmados.Confirmado, recuperados.Recuperado], ignore_index=False, axis=1)\n",
        "# mortes\n",
        "# mortes.tail()\n",
        "data.tail()"
      ],
      "execution_count": 48,
      "outputs": [
        {
          "output_type": "execute_result",
          "data": {
            "text/html": [
              "<div>\n",
              "<style scoped>\n",
              "    .dataframe tbody tr th:only-of-type {\n",
              "        vertical-align: middle;\n",
              "    }\n",
              "\n",
              "    .dataframe tbody tr th {\n",
              "        vertical-align: top;\n",
              "    }\n",
              "\n",
              "    .dataframe thead th {\n",
              "        text-align: right;\n",
              "    }\n",
              "</style>\n",
              "<table border=\"1\" class=\"dataframe\">\n",
              "  <thead>\n",
              "    <tr style=\"text-align: right;\">\n",
              "      <th></th>\n",
              "      <th>Date</th>\n",
              "      <th>Mortes</th>\n",
              "      <th>Confirmado</th>\n",
              "      <th>Recuperado</th>\n",
              "    </tr>\n",
              "  </thead>\n",
              "  <tbody>\n",
              "    <tr>\n",
              "      <th>76</th>\n",
              "      <td>04/07/2020</td>\n",
              "      <td>81865.0</td>\n",
              "      <td>1426096.0</td>\n",
              "      <td>300054.0</td>\n",
              "    </tr>\n",
              "    <tr>\n",
              "      <th>77</th>\n",
              "      <td>04/08/2020</td>\n",
              "      <td>88338.0</td>\n",
              "      <td>1511104.0</td>\n",
              "      <td>328661.0</td>\n",
              "    </tr>\n",
              "    <tr>\n",
              "      <th>78</th>\n",
              "      <td>04/09/2020</td>\n",
              "      <td>95455.0</td>\n",
              "      <td>1595350.0</td>\n",
              "      <td>353975.0</td>\n",
              "    </tr>\n",
              "    <tr>\n",
              "      <th>79</th>\n",
              "      <td>04/10/2020</td>\n",
              "      <td>102525.0</td>\n",
              "      <td>1691719.0</td>\n",
              "      <td>376096.0</td>\n",
              "    </tr>\n",
              "    <tr>\n",
              "      <th>80</th>\n",
              "      <td>04/11/2020</td>\n",
              "      <td>113031.0</td>\n",
              "      <td>1827284.0</td>\n",
              "      <td>416620.0</td>\n",
              "    </tr>\n",
              "  </tbody>\n",
              "</table>\n",
              "</div>"
            ],
            "text/plain": [
              "          Date    Mortes  Confirmado  Recuperado\n",
              "76  04/07/2020   81865.0   1426096.0    300054.0\n",
              "77  04/08/2020   88338.0   1511104.0    328661.0\n",
              "78  04/09/2020   95455.0   1595350.0    353975.0\n",
              "79  04/10/2020  102525.0   1691719.0    376096.0\n",
              "80  04/11/2020  113031.0   1827284.0    416620.0"
            ]
          },
          "metadata": {
            "tags": []
          },
          "execution_count": 48
        }
      ]
    },
    {
      "cell_type": "markdown",
      "metadata": {
        "id": "_F4aLa_D6Kg6",
        "colab_type": "text"
      },
      "source": [
        "##Plotagem dos dados base (Sem nenhuma técnica aplicada)\n"
      ]
    },
    {
      "cell_type": "code",
      "metadata": {
        "id": "RD2VwMHs6AC6",
        "colab_type": "code",
        "outputId": "fbd78ac2-adc1-41a2-e1c4-a03feffea54b",
        "colab": {
          "base_uri": "https://localhost:8080/",
          "height": 292
        }
      },
      "source": [
        "data.plot()"
      ],
      "execution_count": 49,
      "outputs": [
        {
          "output_type": "execute_result",
          "data": {
            "text/plain": [
              "<matplotlib.axes._subplots.AxesSubplot at 0x7f199894b128>"
            ]
          },
          "metadata": {
            "tags": []
          },
          "execution_count": 49
        },
        {
          "output_type": "display_data",
          "data": {
            "image/png": "[encoded data removed]",
            "text/plain": [
              "<Figure size 432x288 with 1 Axes>"
            ]
          },
          "metadata": {
            "tags": [],
            "needs_background": "light"
          }
        }
      ]
    },
    {
      "cell_type": "markdown",
      "metadata": {
        "id": "pGoax4gc6sB5",
        "colab_type": "text"
      },
      "source": [
        "#**PREDIÇÃO (MORTES, CASOS CONFIRMADOS E CASOS RECUPERADOS)**\n",
        "##Preparação do banco de dados"
      ]
    },
    {
      "cell_type": "code",
      "metadata": {
        "id": "Qz_W2GgO7T4z",
        "colab_type": "code",
        "colab": {}
      },
      "source": [
        "mortes.columns = ['ds', 'y']\n",
        "confirmados.columns = ['ds', 'y']\n",
        "recuperados.columns = ['ds', 'y']\n",
        "\n",
        "confirmados['ds'] = pd.to_datetime(confirmados['ds'])\n",
        "recuperados['ds'] = pd.to_datetime(recuperados['ds'])\n",
        "mortes['ds'] = pd.to_datetime(mortes['ds'])"
      ],
      "execution_count": 0,
      "outputs": []
    },
    {
      "cell_type": "markdown",
      "metadata": {
        "id": "8GQlwTBQ6-ke",
        "colab_type": "text"
      },
      "source": [
        "### Seleção da quantidade de dias da previsão"
      ]
    },
    {
      "cell_type": "code",
      "metadata": {
        "id": "39AJG2fv-sPb",
        "colab_type": "code",
        "colab": {}
      },
      "source": [
        "dias = 7"
      ],
      "execution_count": 0,
      "outputs": []
    },
    {
      "cell_type": "markdown",
      "metadata": {
        "id": "cvuoa2vR7dIJ",
        "colab_type": "text"
      },
      "source": [
        "##**Criação instância do objeto Prophet** (Responsável pela previsão)\n",
        "###Atribuição de features (Casos confirmados, Recuperados e Mortes)"
      ]
    },
    {
      "cell_type": "code",
      "metadata": {
        "id": "6tfLNE_y7ze-",
        "colab_type": "code",
        "outputId": "c862d671-5983-4309-f18a-81aae402bac2",
        "colab": {
          "base_uri": "https://localhost:8080/",
          "height": 117
        }
      },
      "source": [
        "m = Prophet(interval_width=0.95)\n",
        "c = Prophet(interval_width=0.95)\n",
        "r = Prophet(interval_width=0.95)\n",
        "m.fit(mortes)\n",
        "c.fit(confirmados)\n",
        "r.fit(recuperados)\n",
        "futuroM = m.make_future_dataframe(periods=dias)\n",
        "futuroC = c.make_future_dataframe(periods=dias)\n",
        "futuroR = r.make_future_dataframe(periods=dias)"
      ],
      "execution_count": 52,
      "outputs": [
        {
          "output_type": "stream",
          "text": [
            "INFO:fbprophet:Disabling yearly seasonality. Run prophet with yearly_seasonality=True to override this.\n",
            "INFO:fbprophet:Disabling daily seasonality. Run prophet with daily_seasonality=True to override this.\n",
            "INFO:fbprophet:Disabling yearly seasonality. Run prophet with yearly_seasonality=True to override this.\n",
            "INFO:fbprophet:Disabling daily seasonality. Run prophet with daily_seasonality=True to override this.\n",
            "INFO:fbprophet:Disabling yearly seasonality. Run prophet with yearly_seasonality=True to override this.\n",
            "INFO:fbprophet:Disabling daily seasonality. Run prophet with daily_seasonality=True to override this.\n"
          ],
          "name": "stderr"
        }
      ]
    },
    {
      "cell_type": "markdown",
      "metadata": {
        "id": "X8ffh5kZ8SW5",
        "colab_type": "text"
      },
      "source": [
        "##**Execução dos Métodos de predição**"
      ]
    },
    {
      "cell_type": "code",
      "metadata": {
        "id": "dnHQBTiE9Erc",
        "colab_type": "code",
        "outputId": "def6b855-3253-41c0-b289-9a06772a1c3d",
        "colab": {
          "base_uri": "https://localhost:8080/",
          "height": 392
        }
      },
      "source": [
        "previsaoM = m.predict(futuroM)\n",
        "previsaoC = c.predict(futuroC)\n",
        "previsaoR = r.predict(futuroR)\n",
        "previsaoC"
      ],
      "execution_count": 53,
      "outputs": [
        {
          "output_type": "execute_result",
          "data": {
            "text/html": [
              "<div>\n",
              "<style scoped>\n",
              "    .dataframe tbody tr th:only-of-type {\n",
              "        vertical-align: middle;\n",
              "    }\n",
              "\n",
              "    .dataframe tbody tr th {\n",
              "        vertical-align: top;\n",
              "    }\n",
              "\n",
              "    .dataframe thead th {\n",
              "        text-align: right;\n",
              "    }\n",
              "</style>\n",
              "<table border=\"1\" class=\"dataframe\">\n",
              "  <thead>\n",
              "    <tr style=\"text-align: right;\">\n",
              "      <th></th>\n",
              "      <th>ds</th>\n",
              "      <th>trend</th>\n",
              "      <th>yhat_lower</th>\n",
              "      <th>yhat_upper</th>\n",
              "      <th>trend_lower</th>\n",
              "      <th>trend_upper</th>\n",
              "      <th>additive_terms</th>\n",
              "      <th>additive_terms_lower</th>\n",
              "      <th>additive_terms_upper</th>\n",
              "      <th>weekly</th>\n",
              "      <th>weekly_lower</th>\n",
              "      <th>weekly_upper</th>\n",
              "      <th>multiplicative_terms</th>\n",
              "      <th>multiplicative_terms_lower</th>\n",
              "      <th>multiplicative_terms_upper</th>\n",
              "      <th>yhat</th>\n",
              "    </tr>\n",
              "  </thead>\n",
              "  <tbody>\n",
              "    <tr>\n",
              "      <th>0</th>\n",
              "      <td>2020-01-22</td>\n",
              "      <td>-8.893075e+03</td>\n",
              "      <td>-3.766323e+04</td>\n",
              "      <td>2.113811e+04</td>\n",
              "      <td>-8.893075e+03</td>\n",
              "      <td>-8.893075e+03</td>\n",
              "      <td>-186.162636</td>\n",
              "      <td>-186.162636</td>\n",
              "      <td>-186.162636</td>\n",
              "      <td>-186.162636</td>\n",
              "      <td>-186.162636</td>\n",
              "      <td>-186.162636</td>\n",
              "      <td>0.0</td>\n",
              "      <td>0.0</td>\n",
              "      <td>0.0</td>\n",
              "      <td>-9.079237e+03</td>\n",
              "    </tr>\n",
              "    <tr>\n",
              "      <th>1</th>\n",
              "      <td>2020-01-23</td>\n",
              "      <td>-6.097665e+03</td>\n",
              "      <td>-3.596733e+04</td>\n",
              "      <td>2.363291e+04</td>\n",
              "      <td>-6.097665e+03</td>\n",
              "      <td>-6.097665e+03</td>\n",
              "      <td>-774.221856</td>\n",
              "      <td>-774.221856</td>\n",
              "      <td>-774.221856</td>\n",
              "      <td>-774.221856</td>\n",
              "      <td>-774.221856</td>\n",
              "      <td>-774.221856</td>\n",
              "      <td>0.0</td>\n",
              "      <td>0.0</td>\n",
              "      <td>0.0</td>\n",
              "      <td>-6.871887e+03</td>\n",
              "    </tr>\n",
              "    <tr>\n",
              "      <th>2</th>\n",
              "      <td>2020-01-24</td>\n",
              "      <td>-3.302256e+03</td>\n",
              "      <td>-2.990939e+04</td>\n",
              "      <td>2.368638e+04</td>\n",
              "      <td>-3.302256e+03</td>\n",
              "      <td>-3.302256e+03</td>\n",
              "      <td>635.319347</td>\n",
              "      <td>635.319347</td>\n",
              "      <td>635.319347</td>\n",
              "      <td>635.319347</td>\n",
              "      <td>635.319347</td>\n",
              "      <td>635.319347</td>\n",
              "      <td>0.0</td>\n",
              "      <td>0.0</td>\n",
              "      <td>0.0</td>\n",
              "      <td>-2.666937e+03</td>\n",
              "    </tr>\n",
              "    <tr>\n",
              "      <th>3</th>\n",
              "      <td>2020-01-25</td>\n",
              "      <td>-5.068464e+02</td>\n",
              "      <td>-2.083682e+04</td>\n",
              "      <td>3.466244e+04</td>\n",
              "      <td>-5.068464e+02</td>\n",
              "      <td>-5.068464e+02</td>\n",
              "      <td>6540.317814</td>\n",
              "      <td>6540.317814</td>\n",
              "      <td>6540.317814</td>\n",
              "      <td>6540.317814</td>\n",
              "      <td>6540.317814</td>\n",
              "      <td>6540.317814</td>\n",
              "      <td>0.0</td>\n",
              "      <td>0.0</td>\n",
              "      <td>0.0</td>\n",
              "      <td>6.033471e+03</td>\n",
              "    </tr>\n",
              "    <tr>\n",
              "      <th>4</th>\n",
              "      <td>2020-01-26</td>\n",
              "      <td>2.288563e+03</td>\n",
              "      <td>-2.622729e+04</td>\n",
              "      <td>3.086617e+04</td>\n",
              "      <td>2.288563e+03</td>\n",
              "      <td>2.288563e+03</td>\n",
              "      <td>-2003.817054</td>\n",
              "      <td>-2003.817054</td>\n",
              "      <td>-2003.817054</td>\n",
              "      <td>-2003.817054</td>\n",
              "      <td>-2003.817054</td>\n",
              "      <td>-2003.817054</td>\n",
              "      <td>0.0</td>\n",
              "      <td>0.0</td>\n",
              "      <td>0.0</td>\n",
              "      <td>2.847459e+02</td>\n",
              "    </tr>\n",
              "    <tr>\n",
              "      <th>...</th>\n",
              "      <td>...</td>\n",
              "      <td>...</td>\n",
              "      <td>...</td>\n",
              "      <td>...</td>\n",
              "      <td>...</td>\n",
              "      <td>...</td>\n",
              "      <td>...</td>\n",
              "      <td>...</td>\n",
              "      <td>...</td>\n",
              "      <td>...</td>\n",
              "      <td>...</td>\n",
              "      <td>...</td>\n",
              "      <td>...</td>\n",
              "      <td>...</td>\n",
              "      <td>...</td>\n",
              "      <td>...</td>\n",
              "    </tr>\n",
              "    <tr>\n",
              "      <th>83</th>\n",
              "      <td>2020-04-14</td>\n",
              "      <td>1.978658e+06</td>\n",
              "      <td>1.942471e+06</td>\n",
              "      <td>2.007020e+06</td>\n",
              "      <td>1.963218e+06</td>\n",
              "      <td>1.993611e+06</td>\n",
              "      <td>-1381.206638</td>\n",
              "      <td>-1381.206638</td>\n",
              "      <td>-1381.206638</td>\n",
              "      <td>-1381.206638</td>\n",
              "      <td>-1381.206638</td>\n",
              "      <td>-1381.206638</td>\n",
              "      <td>0.0</td>\n",
              "      <td>0.0</td>\n",
              "      <td>0.0</td>\n",
              "      <td>1.977277e+06</td>\n",
              "    </tr>\n",
              "    <tr>\n",
              "      <th>84</th>\n",
              "      <td>2020-04-15</td>\n",
              "      <td>2.056312e+06</td>\n",
              "      <td>2.021890e+06</td>\n",
              "      <td>2.091333e+06</td>\n",
              "      <td>2.033619e+06</td>\n",
              "      <td>2.079151e+06</td>\n",
              "      <td>-186.162636</td>\n",
              "      <td>-186.162636</td>\n",
              "      <td>-186.162636</td>\n",
              "      <td>-186.162636</td>\n",
              "      <td>-186.162636</td>\n",
              "      <td>-186.162636</td>\n",
              "      <td>0.0</td>\n",
              "      <td>0.0</td>\n",
              "      <td>0.0</td>\n",
              "      <td>2.056126e+06</td>\n",
              "    </tr>\n",
              "    <tr>\n",
              "      <th>85</th>\n",
              "      <td>2020-04-16</td>\n",
              "      <td>2.133966e+06</td>\n",
              "      <td>2.089283e+06</td>\n",
              "      <td>2.172743e+06</td>\n",
              "      <td>2.101125e+06</td>\n",
              "      <td>2.165640e+06</td>\n",
              "      <td>-774.221856</td>\n",
              "      <td>-774.221856</td>\n",
              "      <td>-774.221856</td>\n",
              "      <td>-774.221856</td>\n",
              "      <td>-774.221856</td>\n",
              "      <td>-774.221856</td>\n",
              "      <td>0.0</td>\n",
              "      <td>0.0</td>\n",
              "      <td>0.0</td>\n",
              "      <td>2.133192e+06</td>\n",
              "    </tr>\n",
              "    <tr>\n",
              "      <th>86</th>\n",
              "      <td>2020-04-17</td>\n",
              "      <td>2.211619e+06</td>\n",
              "      <td>2.160310e+06</td>\n",
              "      <td>2.258455e+06</td>\n",
              "      <td>2.167914e+06</td>\n",
              "      <td>2.253701e+06</td>\n",
              "      <td>635.319347</td>\n",
              "      <td>635.319347</td>\n",
              "      <td>635.319347</td>\n",
              "      <td>635.319347</td>\n",
              "      <td>635.319347</td>\n",
              "      <td>635.319347</td>\n",
              "      <td>0.0</td>\n",
              "      <td>0.0</td>\n",
              "      <td>0.0</td>\n",
              "      <td>2.212255e+06</td>\n",
              "    </tr>\n",
              "    <tr>\n",
              "      <th>87</th>\n",
              "      <td>2020-04-18</td>\n",
              "      <td>2.289273e+06</td>\n",
              "      <td>2.235192e+06</td>\n",
              "      <td>2.352987e+06</td>\n",
              "      <td>2.234973e+06</td>\n",
              "      <td>2.342894e+06</td>\n",
              "      <td>6540.317814</td>\n",
              "      <td>6540.317814</td>\n",
              "      <td>6540.317814</td>\n",
              "      <td>6540.317814</td>\n",
              "      <td>6540.317814</td>\n",
              "      <td>6540.317814</td>\n",
              "      <td>0.0</td>\n",
              "      <td>0.0</td>\n",
              "      <td>0.0</td>\n",
              "      <td>2.295814e+06</td>\n",
              "    </tr>\n",
              "  </tbody>\n",
              "</table>\n",
              "<p>88 rows × 16 columns</p>\n",
              "</div>"
            ],
            "text/plain": [
              "           ds         trend  ...  multiplicative_terms_upper          yhat\n",
              "0  2020-01-22 -8.893075e+03  ...                         0.0 -9.079237e+03\n",
              "1  2020-01-23 -6.097665e+03  ...                         0.0 -6.871887e+03\n",
              "2  2020-01-24 -3.302256e+03  ...                         0.0 -2.666937e+03\n",
              "3  2020-01-25 -5.068464e+02  ...                         0.0  6.033471e+03\n",
              "4  2020-01-26  2.288563e+03  ...                         0.0  2.847459e+02\n",
              "..        ...           ...  ...                         ...           ...\n",
              "83 2020-04-14  1.978658e+06  ...                         0.0  1.977277e+06\n",
              "84 2020-04-15  2.056312e+06  ...                         0.0  2.056126e+06\n",
              "85 2020-04-16  2.133966e+06  ...                         0.0  2.133192e+06\n",
              "86 2020-04-17  2.211619e+06  ...                         0.0  2.212255e+06\n",
              "87 2020-04-18  2.289273e+06  ...                         0.0  2.295814e+06\n",
              "\n",
              "[88 rows x 16 columns]"
            ]
          },
          "metadata": {
            "tags": []
          },
          "execution_count": 53
        }
      ]
    },
    {
      "cell_type": "markdown",
      "metadata": {
        "id": "SqbP0xZ78gXq",
        "colab_type": "text"
      },
      "source": [
        "#**PREDIÇÃO DOS CASOS CONFIRMADOS PARA OS PRÓXIMOS 7 DIAS**"
      ]
    },
    {
      "cell_type": "code",
      "metadata": {
        "id": "wUYQAmQnsoBT",
        "colab_type": "code",
        "outputId": "a0284075-e130-4c05-9b3b-2d3e68136b6d",
        "colab": {
          "base_uri": "https://localhost:8080/",
          "height": 265
        }
      },
      "source": [
        "print(\"Confirmados: \")\n",
        "confirmados = pd.concat([previsaoC.ds.tail(7), previsaoC.yhat_upper.tail(7), previsaoC.yhat_lower.tail(7)], ignore_index=False, axis=1)\n",
        "confirmados\n",
        "\n"
      ],
      "execution_count": 54,
      "outputs": [
        {
          "output_type": "stream",
          "text": [
            "Confirmados: \n"
          ],
          "name": "stdout"
        },
        {
          "output_type": "execute_result",
          "data": {
            "text/html": [
              "<div>\n",
              "<style scoped>\n",
              "    .dataframe tbody tr th:only-of-type {\n",
              "        vertical-align: middle;\n",
              "    }\n",
              "\n",
              "    .dataframe tbody tr th {\n",
              "        vertical-align: top;\n",
              "    }\n",
              "\n",
              "    .dataframe thead th {\n",
              "        text-align: right;\n",
              "    }\n",
              "</style>\n",
              "<table border=\"1\" class=\"dataframe\">\n",
              "  <thead>\n",
              "    <tr style=\"text-align: right;\">\n",
              "      <th></th>\n",
              "      <th>ds</th>\n",
              "      <th>yhat_upper</th>\n",
              "      <th>yhat_lower</th>\n",
              "    </tr>\n",
              "  </thead>\n",
              "  <tbody>\n",
              "    <tr>\n",
              "      <th>81</th>\n",
              "      <td>2020-04-12</td>\n",
              "      <td>1.849614e+06</td>\n",
              "      <td>1.793499e+06</td>\n",
              "    </tr>\n",
              "    <tr>\n",
              "      <th>82</th>\n",
              "      <td>2020-04-13</td>\n",
              "      <td>1.927541e+06</td>\n",
              "      <td>1.868692e+06</td>\n",
              "    </tr>\n",
              "    <tr>\n",
              "      <th>83</th>\n",
              "      <td>2020-04-14</td>\n",
              "      <td>2.007020e+06</td>\n",
              "      <td>1.942471e+06</td>\n",
              "    </tr>\n",
              "    <tr>\n",
              "      <th>84</th>\n",
              "      <td>2020-04-15</td>\n",
              "      <td>2.091333e+06</td>\n",
              "      <td>2.021890e+06</td>\n",
              "    </tr>\n",
              "    <tr>\n",
              "      <th>85</th>\n",
              "      <td>2020-04-16</td>\n",
              "      <td>2.172743e+06</td>\n",
              "      <td>2.089283e+06</td>\n",
              "    </tr>\n",
              "    <tr>\n",
              "      <th>86</th>\n",
              "      <td>2020-04-17</td>\n",
              "      <td>2.258455e+06</td>\n",
              "      <td>2.160310e+06</td>\n",
              "    </tr>\n",
              "    <tr>\n",
              "      <th>87</th>\n",
              "      <td>2020-04-18</td>\n",
              "      <td>2.352987e+06</td>\n",
              "      <td>2.235192e+06</td>\n",
              "    </tr>\n",
              "  </tbody>\n",
              "</table>\n",
              "</div>"
            ],
            "text/plain": [
              "           ds    yhat_upper    yhat_lower\n",
              "81 2020-04-12  1.849614e+06  1.793499e+06\n",
              "82 2020-04-13  1.927541e+06  1.868692e+06\n",
              "83 2020-04-14  2.007020e+06  1.942471e+06\n",
              "84 2020-04-15  2.091333e+06  2.021890e+06\n",
              "85 2020-04-16  2.172743e+06  2.089283e+06\n",
              "86 2020-04-17  2.258455e+06  2.160310e+06\n",
              "87 2020-04-18  2.352987e+06  2.235192e+06"
            ]
          },
          "metadata": {
            "tags": []
          },
          "execution_count": 54
        }
      ]
    },
    {
      "cell_type": "markdown",
      "metadata": {
        "id": "-9Xwdabo8oFu",
        "colab_type": "text"
      },
      "source": [
        "#**PREDIÇÃO DOS CASOS RECUPERADOS PARA OS PRÓXIMOS 7 DIAS**\n"
      ]
    },
    {
      "cell_type": "code",
      "metadata": {
        "id": "UXAWUzbbxl-1",
        "colab_type": "code",
        "outputId": "17fe8af5-7b36-4ab0-db59-1bdc2bdeea5d",
        "colab": {
          "base_uri": "https://localhost:8080/",
          "height": 265
        }
      },
      "source": [
        "print(\"Recuperados: \")\n",
        "recuperados = pd.concat([previsaoR.ds.tail(7), previsaoR.yhat_upper.tail(7), previsaoR.yhat_lower.tail(7)], ignore_index=False, axis=1)\n",
        "recuperados"
      ],
      "execution_count": 55,
      "outputs": [
        {
          "output_type": "stream",
          "text": [
            "Recuperados: \n"
          ],
          "name": "stdout"
        },
        {
          "output_type": "execute_result",
          "data": {
            "text/html": [
              "<div>\n",
              "<style scoped>\n",
              "    .dataframe tbody tr th:only-of-type {\n",
              "        vertical-align: middle;\n",
              "    }\n",
              "\n",
              "    .dataframe tbody tr th {\n",
              "        vertical-align: top;\n",
              "    }\n",
              "\n",
              "    .dataframe thead th {\n",
              "        text-align: right;\n",
              "    }\n",
              "</style>\n",
              "<table border=\"1\" class=\"dataframe\">\n",
              "  <thead>\n",
              "    <tr style=\"text-align: right;\">\n",
              "      <th></th>\n",
              "      <th>ds</th>\n",
              "      <th>yhat_upper</th>\n",
              "      <th>yhat_lower</th>\n",
              "    </tr>\n",
              "  </thead>\n",
              "  <tbody>\n",
              "    <tr>\n",
              "      <th>81</th>\n",
              "      <td>2020-04-12</td>\n",
              "      <td>400175.678927</td>\n",
              "      <td>368455.912304</td>\n",
              "    </tr>\n",
              "    <tr>\n",
              "      <th>82</th>\n",
              "      <td>2020-04-13</td>\n",
              "      <td>417559.970975</td>\n",
              "      <td>383156.791336</td>\n",
              "    </tr>\n",
              "    <tr>\n",
              "      <th>83</th>\n",
              "      <td>2020-04-14</td>\n",
              "      <td>433916.670907</td>\n",
              "      <td>399157.977037</td>\n",
              "    </tr>\n",
              "    <tr>\n",
              "      <th>84</th>\n",
              "      <td>2020-04-15</td>\n",
              "      <td>453045.552850</td>\n",
              "      <td>417425.275401</td>\n",
              "    </tr>\n",
              "    <tr>\n",
              "      <th>85</th>\n",
              "      <td>2020-04-16</td>\n",
              "      <td>466992.091514</td>\n",
              "      <td>433639.881046</td>\n",
              "    </tr>\n",
              "    <tr>\n",
              "      <th>86</th>\n",
              "      <td>2020-04-17</td>\n",
              "      <td>483671.057079</td>\n",
              "      <td>447890.966303</td>\n",
              "    </tr>\n",
              "    <tr>\n",
              "      <th>87</th>\n",
              "      <td>2020-04-18</td>\n",
              "      <td>504220.959939</td>\n",
              "      <td>465773.197201</td>\n",
              "    </tr>\n",
              "  </tbody>\n",
              "</table>\n",
              "</div>"
            ],
            "text/plain": [
              "           ds     yhat_upper     yhat_lower\n",
              "81 2020-04-12  400175.678927  368455.912304\n",
              "82 2020-04-13  417559.970975  383156.791336\n",
              "83 2020-04-14  433916.670907  399157.977037\n",
              "84 2020-04-15  453045.552850  417425.275401\n",
              "85 2020-04-16  466992.091514  433639.881046\n",
              "86 2020-04-17  483671.057079  447890.966303\n",
              "87 2020-04-18  504220.959939  465773.197201"
            ]
          },
          "metadata": {
            "tags": []
          },
          "execution_count": 55
        }
      ]
    },
    {
      "cell_type": "markdown",
      "metadata": {
        "id": "syIlThsj8tnM",
        "colab_type": "text"
      },
      "source": [
        "#**PREDIÇÃO DAS MORTES PARA OS PRÓXIMOS 7 DIAS**\n"
      ]
    },
    {
      "cell_type": "code",
      "metadata": {
        "id": "BSJvxX0MxmJL",
        "colab_type": "code",
        "outputId": "bed0a67c-817f-4c5c-90df-ac9eec7318db",
        "colab": {
          "base_uri": "https://localhost:8080/",
          "height": 265
        }
      },
      "source": [
        "print(\"Mortos: \")\n",
        "mortos = pd.concat([previsaoM.ds.tail(7), previsaoM.yhat_upper.tail(7), previsaoM.yhat_lower.tail(7)], ignore_index=False, axis=1)\n",
        "mortos"
      ],
      "execution_count": 56,
      "outputs": [
        {
          "output_type": "stream",
          "text": [
            "Mortos: \n"
          ],
          "name": "stdout"
        },
        {
          "output_type": "execute_result",
          "data": {
            "text/html": [
              "<div>\n",
              "<style scoped>\n",
              "    .dataframe tbody tr th:only-of-type {\n",
              "        vertical-align: middle;\n",
              "    }\n",
              "\n",
              "    .dataframe tbody tr th {\n",
              "        vertical-align: top;\n",
              "    }\n",
              "\n",
              "    .dataframe thead th {\n",
              "        text-align: right;\n",
              "    }\n",
              "</style>\n",
              "<table border=\"1\" class=\"dataframe\">\n",
              "  <thead>\n",
              "    <tr style=\"text-align: right;\">\n",
              "      <th></th>\n",
              "      <th>ds</th>\n",
              "      <th>yhat_upper</th>\n",
              "      <th>yhat_lower</th>\n",
              "    </tr>\n",
              "  </thead>\n",
              "  <tbody>\n",
              "    <tr>\n",
              "      <th>81</th>\n",
              "      <td>2020-04-12</td>\n",
              "      <td>111155.544828</td>\n",
              "      <td>103628.661646</td>\n",
              "    </tr>\n",
              "    <tr>\n",
              "      <th>82</th>\n",
              "      <td>2020-04-13</td>\n",
              "      <td>116139.854404</td>\n",
              "      <td>108276.081963</td>\n",
              "    </tr>\n",
              "    <tr>\n",
              "      <th>83</th>\n",
              "      <td>2020-04-14</td>\n",
              "      <td>121824.154533</td>\n",
              "      <td>114025.125411</td>\n",
              "    </tr>\n",
              "    <tr>\n",
              "      <th>84</th>\n",
              "      <td>2020-04-15</td>\n",
              "      <td>127405.623361</td>\n",
              "      <td>119110.557903</td>\n",
              "    </tr>\n",
              "    <tr>\n",
              "      <th>85</th>\n",
              "      <td>2020-04-16</td>\n",
              "      <td>132603.255352</td>\n",
              "      <td>124268.205781</td>\n",
              "    </tr>\n",
              "    <tr>\n",
              "      <th>86</th>\n",
              "      <td>2020-04-17</td>\n",
              "      <td>137997.270426</td>\n",
              "      <td>128942.486008</td>\n",
              "    </tr>\n",
              "    <tr>\n",
              "      <th>87</th>\n",
              "      <td>2020-04-18</td>\n",
              "      <td>144127.163189</td>\n",
              "      <td>134214.741453</td>\n",
              "    </tr>\n",
              "  </tbody>\n",
              "</table>\n",
              "</div>"
            ],
            "text/plain": [
              "           ds     yhat_upper     yhat_lower\n",
              "81 2020-04-12  111155.544828  103628.661646\n",
              "82 2020-04-13  116139.854404  108276.081963\n",
              "83 2020-04-14  121824.154533  114025.125411\n",
              "84 2020-04-15  127405.623361  119110.557903\n",
              "85 2020-04-16  132603.255352  124268.205781\n",
              "86 2020-04-17  137997.270426  128942.486008\n",
              "87 2020-04-18  144127.163189  134214.741453"
            ]
          },
          "metadata": {
            "tags": []
          },
          "execution_count": 56
        }
      ]
    },
    {
      "cell_type": "markdown",
      "metadata": {
        "id": "ZkJEDMsi8z37",
        "colab_type": "text"
      },
      "source": [
        "#**GRÁFICO DE MORTOS**\n",
        "###(Os pontos pretos, significam os dados reais, a linha azul o previsto e o sombreamento, a margem de erro)"
      ]
    },
    {
      "cell_type": "code",
      "metadata": {
        "id": "ekgNPwAk-Kqf",
        "colab_type": "code",
        "outputId": "aa63e4ca-4322-47e8-ee93-2d48b0831414",
        "colab": {
          "base_uri": "https://localhost:8080/",
          "height": 474
        }
      },
      "source": [
        "print(\"Ponto máximo de mortes em 7 dias: {:.0f}\\n Ponto mínimo de mortes em 7 dias : {:.0f}\".format(mortos.yhat_upper.tail(1).values[0], mortos.yhat_lower.tail(1).values[0]))\n",
        "grafico_previsaoM = m.plot(previsaoM)\n"
      ],
      "execution_count": 57,
      "outputs": [
        {
          "output_type": "stream",
          "text": [
            "Ponto máximo de mortes em 7 dias: 144127\n",
            " Ponto mínimo de mortes em 7 dias : 134215\n"
          ],
          "name": "stdout"
        },
        {
          "output_type": "display_data",
          "data": {
            "image/png": "[encoded data removed]",
            "text/plain": [
              "<Figure size 720x432 with 1 Axes>"
            ]
          },
          "metadata": {
            "tags": []
          }
        }
      ]
    },
    {
      "cell_type": "markdown",
      "metadata": {
        "id": "nCSF7-st9496",
        "colab_type": "text"
      },
      "source": [
        "#**GRÁFICO DE CASOS CONFIRMADOS**"
      ]
    },
    {
      "cell_type": "code",
      "metadata": {
        "id": "d6ROXAsVy_7b",
        "colab_type": "code",
        "colab": {
          "base_uri": "https://localhost:8080/",
          "height": 474
        },
        "outputId": "c8c04efd-3d28-4586-fa9f-941714724725"
      },
      "source": [
        "print(\"Ponto máximo de casos confirmados em 7 dias: {:.0f}\\n Ponto mínimo de casos confirmados em 7 dias : {:.0f}\".format(confirmados.yhat_upper.tail(1).values[0], confirmados.yhat_lower.tail(1).values[0]))\n",
        "grafico_previsaoC = c.plot(previsaoC)\n"
      ],
      "execution_count": 58,
      "outputs": [
        {
          "output_type": "stream",
          "text": [
            "Ponto máximo de casos confirmados em 7 dias: 2352987\n",
            " Ponto mínimo de casos confirmados em 7 dias : 2235192\n"
          ],
          "name": "stdout"
        },
        {
          "output_type": "display_data",
          "data": {
            "image/png": "[encoded data removed]",
            "text/plain": [
              "<Figure size 720x432 with 1 Axes>"
            ]
          },
          "metadata": {
            "tags": []
          }
        }
      ]
    },
    {
      "cell_type": "markdown",
      "metadata": {
        "id": "F95aUceK99h7",
        "colab_type": "text"
      },
      "source": [
        "#**GRÁFICO DE CASOS RECUPERADOS**"
      ]
    },
    {
      "cell_type": "code",
      "metadata": {
        "id": "XmGy-SD0zAF3",
        "colab_type": "code",
        "colab": {
          "base_uri": "https://localhost:8080/",
          "height": 474
        },
        "outputId": "072c8355-bf9e-475d-c2ac-0fd0f5f663b7"
      },
      "source": [
        "print(\"Ponto máximo de casos recuperados em 7 dias: {:.0f}\\n Ponto mínimo de casos recuperados em 7 dias : {:.0f}\".format(recuperados.yhat_upper.tail(1).values[0], recuperados.yhat_lower.tail(1).values[0]))\n",
        "grafico_previsaoR = r.plot(previsaoR)"
      ],
      "execution_count": 59,
      "outputs": [
        {
          "output_type": "stream",
          "text": [
            "Ponto máximo de casos recuperados em 7 dias: 504221\n",
            " Ponto mínimo de casos recuperados em 7 dias : 465773\n"
          ],
          "name": "stdout"
        },
        {
          "output_type": "display_data",
          "data": {
            "image/png": "[encoded data removed]",
            "text/plain": [
              "<Figure size 720x432 with 1 Axes>"
            ]
          },
          "metadata": {
            "tags": []
          }
        }
      ]
    }
  ]
}